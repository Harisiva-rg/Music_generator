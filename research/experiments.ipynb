{
 "cells": [
  {
   "cell_type": "code",
   "execution_count": 12,
   "metadata": {},
   "outputs": [],
   "source": [
    "import os\n",
    "import json\n",
    "import numpy as np\n",
    "# from collections import Counter\n",
    "import matplotlib.pyplot as plt\n",
    "from music_generator.constants import *\n"
   ]
  },
  {
   "cell_type": "code",
   "execution_count": 17,
   "metadata": {},
   "outputs": [],
   "source": [
    "text = open('E:\\\\VS_Workspace\\\\NeuralNetworks\\\\Music_generator\\\\data\\\\raw\\\\Music_Input_Notts.txt').read()"
   ]
  },
  {
   "cell_type": "code",
   "execution_count": 21,
   "metadata": {},
   "outputs": [],
   "source": [
    "def char_to_idx_mapper(text):\n",
    "    # character to index and vice-versa mappings\n",
    "    char_to_idx = { ch: i for (i, ch) in enumerate(sorted(list(set(text)))) }\n",
    "    print(\"Number of unique characters: \" + str(len(char_to_idx))) #86\n",
    "\n",
    "    # with open(os.path.join(EXPORT_DIR, 'char_to_idx.json'), 'w') as f:\n",
    "    #     json.dump(char_to_idx, f)\n",
    "\n",
    "    np_text = np.asarray([char_to_idx[c] for c in text], dtype=np.int32) \n",
    "    # idx_to_char = { i: ch for (ch, i) in char_to_idx.items() }\n",
    "    vocab_size = len(char_to_idx)\n",
    "    return np_text, vocab_size\n"
   ]
  },
  {
   "cell_type": "code",
   "execution_count": 22,
   "metadata": {},
   "outputs": [],
   "source": [
    "def read_batches(T, vocab_size):\n",
    "    # logger.info(\"Started >> read_batches\")\n",
    "    \n",
    "    length = T.shape[0]; #129,665\n",
    "    print(length)\n",
    "    batch_chars = int(length / BATCH_SIZE); # 8,104\n",
    "    print(batch_chars)\n",
    "\n",
    "\n",
    "    # for start in range(0, batch_chars - SEQ_LENGTH, SEQ_LENGTH): # (0, 8040, 64)\n",
    "    #     X = np.zeros((BATCH_SIZE, SEQ_LENGTH)) # 16X64\n",
    "    #     Y = np.zeros((BATCH_SIZE, SEQ_LENGTH, vocab_size)) # 16X64X86\n",
    "    #     for batch_idx in range(0, BATCH_SIZE): # (0,16)\n",
    "    #         for i in range(0, SEQ_LENGTH): #(0,64)\n",
    "    #             X[batch_idx, i] = T[batch_chars * batch_idx + start + i] #\n",
    "    #             Y[batch_idx, i, T[batch_chars * batch_idx + start + i + 1]] = 1\n",
    "    #     yield X, Y\n",
    "    # logger.info(\"Completed >> read_batches\")"
   ]
  },
  {
   "cell_type": "code",
   "execution_count": 16,
   "metadata": {},
   "outputs": [
    {
     "name": "stdout",
     "output_type": "stream",
     "text": [
      "287157\n",
      "17947\n"
     ]
    }
   ],
   "source": [
    "np_text, v = char_to_idx_mapper(text)\n",
    "read_batches(np_text, 92)"
   ]
  }
 ],
 "metadata": {
  "kernelspec": {
   "display_name": "LU",
   "language": "python",
   "name": "python3"
  },
  "language_info": {
   "codemirror_mode": {
    "name": "ipython",
    "version": 3
   },
   "file_extension": ".py",
   "mimetype": "text/x-python",
   "name": "python",
   "nbconvert_exporter": "python",
   "pygments_lexer": "ipython3",
   "version": "3.10.4"
  }
 },
 "nbformat": 4,
 "nbformat_minor": 2
}
