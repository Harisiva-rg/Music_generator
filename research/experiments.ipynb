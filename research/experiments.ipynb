{
 "cells": [
  {
   "cell_type": "code",
   "execution_count": 5,
   "metadata": {},
   "outputs": [],
   "source": [
    "import os\n",
    "import json\n",
    "import pickle\n",
    "import numpy as np\n",
    "# from collections import Counter\n",
    "import matplotlib.pyplot as plt\n",
    "# from music_generator.constants import *\n",
    "# import music_generator.constants\n"
   ]
  },
  {
   "cell_type": "code",
   "execution_count": 33,
   "metadata": {},
   "outputs": [],
   "source": [
    "# text = open('E:\\\\VS_Workspace\\\\NeuralNetworks\\\\Music_generator\\\\data\\\\raw\\\\Music_Input_Notts.txt').read()"
   ]
  },
  {
   "cell_type": "code",
   "execution_count": 55,
   "metadata": {},
   "outputs": [],
   "source": [
    "# import pickle\n",
    "\n",
    "# def store_value(variable_name, value):\n",
    "#     if os.path.exists('stored_variables.pkl'):\n",
    "#         with open('stored_variables.pkl', 'rb') as f:\n",
    "#             data = pickle.load(f)\n",
    "#     else:\n",
    "#         data = {}\n",
    "\n",
    "#     # Update or add the new variable and its value\n",
    "#     data[variable_name] = value\n",
    "#     with open('stored_data.pkl', 'wb') as f:\n",
    "#         pickle.dump(data, f)\n"
   ]
  },
  {
   "cell_type": "code",
   "execution_count": 1,
   "metadata": {},
   "outputs": [],
   "source": [
    "# stored_var = r\"E:\\VS_Workspace\\NeuralNetworks\\Music_generator\\exports\\stored_variables.pkl\""
   ]
  },
  {
   "cell_type": "code",
   "execution_count": 2,
   "metadata": {},
   "outputs": [],
   "source": []
  },
  {
   "cell_type": "code",
   "execution_count": 6,
   "metadata": {},
   "outputs": [],
   "source": [
    "def load_value(variable_name):\n",
    "    if os.path.exists(stored_var):\n",
    "        with open(stored_var, 'rb') as f:\n",
    "            data = pickle.load(f)\n",
    "        return data.get(variable_name)\n",
    "    else:\n",
    "        return None"
   ]
  },
  {
   "cell_type": "code",
   "execution_count": 7,
   "metadata": {},
   "outputs": [
    {
     "name": "stdout",
     "output_type": "stream",
     "text": [
      "WARNING:tensorflow:From c:\\Users\\ghari\\.conda\\envs\\LU\\lib\\site-packages\\keras\\src\\losses.py:2976: The name tf.losses.sparse_softmax_cross_entropy is deprecated. Please use tf.compat.v1.losses.sparse_softmax_cross_entropy instead.\n",
      "\n",
      "WARNING:tensorflow:From c:\\Users\\ghari\\.conda\\envs\\LU\\lib\\site-packages\\keras\\src\\backend.py:1398: The name tf.executing_eagerly_outside_functions is deprecated. Please use tf.compat.v1.executing_eagerly_outside_functions instead.\n",
      "\n"
     ]
    },
    {
     "data": {
      "text/plain": [
       "'MI3/4\\nK:C\\ne2|:\"C\"g2e \"F\"cBc|\"G\"B2G D2D|\"C\"E2E GFG|\"G\"d2B d2c|Bcd B2d|\\n\"Am\"c2A \"D\"d2B|\"Am\"cBc \"D7\"ABc|\"G\"d^cd BGd|\\n\"G\"g3 GFG|\"D7\"ABA a3a|\"G\"bgf \"Em\"g2f|\"Am\"e2f \"D7\"agf|\"G\"gdB G2:|\\n\\n\\nX: 288\\nT:Sheames Sime\\n% Nottingham Music Database\\nS:Trad, arr Phil Rowe\\nM:6/8\\nK:G\\nB|\"G\"G3 \"C\"gfe|\"G\"d2c BAG|\"D7\"c2A GFE|\"G\"D2B, B,2D|\"C\"E3 G3|\"G\"B2A B2c| \"G\"d2B d2B|\\n\"D7\"d3 -d2c|\"G\"d2d d2d|\"C\"cBA GFG|\"D7\"A2G F3|\"G\"G2g g2f|1\"G\"d3 -d2c|B3 -B2B|\"Am\"A2B \"D7\"c2d|\"G\"B3 G3|\"D7\"cBA d2e|\\n\"G\"d2B Bcd|B2d c2B|\"Am\"ABA aec|\"D\"DFA dBA|\\n\"G\"GFG DGB|dBG d2d|\"C\"edB \"D7\"def|\"G\"gdB GBd|\\n\"D7\"agf def|\"G\"gfg  \"C\"edc|\"G\"BdB GBc|\"Em\"dcB \"D7\"A2g/2f/2|\\n\"G\"bgg \"D\"afd|\"C\"cde \"G\"gdB|\"C\"cde \"G\"dcB|\"D7\"cAF \"G\"G2:|\\nP:B\\nd|\"G\"gfg \"D7\"aga|\"G\"bge dBG|'"
      ]
     },
     "execution_count": 7,
     "metadata": {},
     "output_type": "execute_result"
    }
   ],
   "source": [
    "value_b = load_value('music_notes')\n",
    "value_b"
   ]
  },
  {
   "cell_type": "code",
   "execution_count": null,
   "metadata": {},
   "outputs": [],
   "source": []
  },
  {
   "cell_type": "code",
   "execution_count": 105,
   "metadata": {},
   "outputs": [
    {
     "name": "stdout",
     "output_type": "stream",
     "text": [
      "Value of 'c': None\n",
      "Value of 'b': None\n"
     ]
    }
   ],
   "source": [
    "# Accessing values\n",
    "value_c = load_value('c')\n",
    "value_b = load_value('b')\n",
    "\n",
    "print(\"Value of 'c':\", value_c)\n",
    "print(\"Value of 'b':\", value_b)"
   ]
  },
  {
   "cell_type": "code",
   "execution_count": 25,
   "metadata": {},
   "outputs": [],
   "source": [
    "def char_to_idx_mapper(text):\n",
    "    # character to index and vice-versa mappings\n",
    "    char_to_idx = { ch: i for (i, ch) in enumerate(sorted(list(set(text)))) }\n",
    "    print(\"Number of unique characters: \" + str(len(char_to_idx))) #86\n",
    "\n",
    "    # with open(os.path.join(EXPORT_DIR, 'char_to_idx.json'), 'w') as f:\n",
    "    #     json.dump(char_to_idx, f)\n",
    "\n",
    "    np_text = np.asarray([char_to_idx[c] for c in text], dtype=np.int32) \n",
    "    # idx_to_char = { i: ch for (ch, i) in char_to_idx.items() }\n",
    "    vocab_size = len(char_to_idx)\n",
    "    return np_text, vocab_size\n"
   ]
  },
  {
   "cell_type": "code",
   "execution_count": 28,
   "metadata": {},
   "outputs": [],
   "source": [
    "def read_batches(T, vocab_size):\n",
    "    # logger.info(\"Started >> read_batches\")\n",
    "    \n",
    "    length = T.shape[0]; #129,665\n",
    "    print(length)\n",
    "    batch_chars = int(length / BATCH_SIZE); # 8,104\n",
    "    print(batch_chars)\n",
    "\n",
    "\n",
    "    for start in range(0, batch_chars - SEQ_LENGTH, SEQ_LENGTH): # (0, 8040, 64)\n",
    "        X = np.zeros((BATCH_SIZE, SEQ_LENGTH)) # 16X64\n",
    "        Y = np.zeros((BATCH_SIZE, SEQ_LENGTH, vocab_size)) # 16X64X86\n",
    "        for batch_idx in range(0, BATCH_SIZE): # (0,16)\n",
    "            for i in range(0, SEQ_LENGTH): #(0,64)\n",
    "                X[batch_idx, i] = T[batch_chars * batch_idx + start + i] #\n",
    "                Y[batch_idx, i, T[batch_chars * batch_idx + start + i + 1]] = 1\n",
    "        yield X, Y\n",
    "    # logger.info(\"Completed >> read_batches\")"
   ]
  },
  {
   "cell_type": "code",
   "execution_count": 29,
   "metadata": {},
   "outputs": [
    {
     "name": "stdout",
     "output_type": "stream",
     "text": [
      "Number of unique characters: 92\n"
     ]
    },
    {
     "data": {
      "text/plain": [
       "<generator object read_batches at 0x0000014BC7F425E0>"
      ]
     },
     "execution_count": 29,
     "metadata": {},
     "output_type": "execute_result"
    }
   ],
   "source": [
    "np_text, v = char_to_idx_mapper(text)\n",
    "read_batches(np_text, v)"
   ]
  },
  {
   "cell_type": "code",
   "execution_count": null,
   "metadata": {},
   "outputs": [],
   "source": [
    "from music_generator.utilities import save_weights\n",
    "model = \"dsfs\"\n",
    "epochs = 100\n",
    "save_freq =30\n",
    "for epoch in range(epochs):\n",
    "    print('\\nEpoch {}/{}'.format(epoch + 1, epochs))\n",
    "    losses, accs = [], []\n",
    "    \n",
    "    if (epochs + 1) % save_freq == 0:\n",
    "        save_weights(epoch + 1, model)\n",
    "        print('Saved checkpoint to', 'weights.{}.h5'.format(epoch + 1))"
   ]
  },
  {
   "cell_type": "code",
   "execution_count": 123,
   "metadata": {},
   "outputs": [],
   "source": [
    "abc =\"\"\"X: 212\n",
    "S:Irdres cn Shepcllsl3,\n",
    "M:3/4\n",
    "L:1/8\n",
    "R:1\\/4\n",
    "K:E\n",
    "c|\"E7\"B/2E/2B/2G/2 \"E7\"BE|\"D\"F3/2F/2 \"A\"A/2A/2G/2F/2|\"D\"AF/2A/2 \"D\"c/2A/2E/2D/2|\\\n",
    "\"D\"d3/2F/2 \"G\"G/2B/2G/2G/2|\"D\"D/2D/2^D/2 F/2F/2G/2F/2|\\\n",
    "\"G\"G/2\"\"\""
   ]
  },
  {
   "cell_type": "code",
   "execution_count": 120,
   "metadata": {},
   "outputs": [],
   "source": [
    "abcd = \"\"\"[4\n",
    "\"D\"FE \"A7\"DC)|\"Dm\"D2 \"A7\"A2|\"D\"FA Ad|\"D\"AA FA|\"G\"G4-|\"G\"Gd \"D\"F/2A/2B|\"Em\"G3/2F/2 \"A7\"EC|\\\n",
    "\"D\"D2 \"D7\"D2|\n",
    "\"G\"B/2A/2\"(d\"Bm\"G/2c/2d|\\\n",
    "\"C\"e/2f/2g \"G\"dB|\"D\"A/2^G/2A/2B/2 A/2a/2d/2f/2|111\"G\"GB \"G\"e3/2f/2||\n",
    "\"Em\"gg \"D\"f/2e/2d/2c/2|\"G\"BG G2:|\n",
    "P:B\n",
    "d/2c/2|\"G\"Bg/2f/2 \"C\"e/2d/2c/2B/2|\"Am\"cA/2c/2 \"D7\"dc/2B/2|\"G\"AG \"C\"g2|\\\n",
    "\"G\"de/2d/2 \"D7\"c/2B/2A/2G/2|\"G\"GG G:|\n",
    "K:A\n",
    "P:C\n",
    "|:c/2B/2|\"A\"c/2e/2A/2c/2 A/2B/2c/2d/2|\"A\"ea e/2c/2A/2G/2|\"D\"FA \"A7\"G/2A/2B/2c/2| [1\"D\"dc/2B/2 A/2f/2e/2f/2|\"Em\"ge B:|\n",
    " [2\"A\"A/2A/2B/2c/2 \"D\"d3/2e/2|\"D\"f/\"\"\""
   ]
  },
  {
   "cell_type": "code",
   "execution_count": null,
   "metadata": {},
   "outputs": [],
   "source": []
  },
  {
   "cell_type": "code",
   "execution_count": null,
   "metadata": {},
   "outputs": [],
   "source": []
  },
  {
   "cell_type": "code",
   "execution_count": 135,
   "metadata": {},
   "outputs": [
    {
     "name": "stdout",
     "output_type": "stream",
     "text": [
      "['MI3/4\\n', 'K:C\\n', 'e2|:\"C\"g2e \"F\"cBc|\"G\"B2G D2D|\"C\"E2E GFG|\"G\"d2B d2c|Bcd B2d|\\n', '\"Am\"c2A \"D\"d2B|\"Am\"cBc \"D7\"ABc|\"G\"d^cd BGd|\\n', '\"G\"g3 GFG|\"D7\"ABA a3a|\"G\"bgf \"Em\"g2f|\"Am\"e2f \"D7\"agf|\"G\"gdB G2:|\\n', '\\n', '\\n', 'X: 288\\n', 'T:Sheames Sime\\n', '% Nottingham Music Database\\n', 'S:Trad, arr Phil Rowe\\n', 'M:6/8\\n', 'K:G\\n', 'B|\"G\"G3 \"C\"gfe|\"G\"d2c BAG|\"D7\"c2A GFE|\"G\"D2B, B,2D|\"C\"E3 G3|\"G\"B2A B2c| \"G\"d2B d2B|\\n', '\"D7\"d3 -d2c|\"G\"d2d d2d|\"C\"cBA GFG|\"D7\"A2G F3|\"G\"G2g g2f|1\"G\"d3 -d2c|B3 -B2B|\"Am\"A2B \"D7\"c2d|\"G\"B3 G3|\"D7\"cBA d2e|\\n', '\"G\"d2B Bcd|B2d c2B|\"Am\"ABA aec|\"D\"DFA dBA|\\n', '\"G\"GFG DGB|dBG d2d|\"C\"edB \"D7\"def|\"G\"gdB GBd|\\n', '\"D7\"agf def|\"G\"gfg  \"C\"edc|\"G\"BdB GBc|\"Em\"dcB \"D7\"A2g/2f/2|\\n', '\"G\"bgg \"D\"afd|\"C\"cde \"G\"gdB|\"C\"cde \"G\"dcB|\"D7\"cAF \"G\"G2:|\\n', 'P:B\\n', 'd|\"G\"gfg \"D7\"aga|\"G\"bge dBG|']\n"
     ]
    }
   ],
   "source": [
    "gen_file = \"E:\\\\VS_Workspace\\\\NeuralNetworks\\\\Music_generator\\\\exports\\\\gen_notes.txt\"\n",
    "\n",
    "with open(gen_file, 'r') as file:\n",
    "    filec = file.readlines()\n",
    "\n",
    "print(filec)"
   ]
  },
  {
   "cell_type": "code",
   "execution_count": 14,
   "metadata": {},
   "outputs": [],
   "source": [
    "def music_split(generated_notes):\n",
    "    if \"X:\" in generated_notes:\n",
    "        split_notes = generated_notes.split('X:')\n",
    "        if len(split_notes) >  1:\n",
    "            music_pick = split_notes[1].strip()\n",
    "            music_pick = 'X:' + music_pick\n",
    "            return music_pick\n",
    "        else:\n",
    "            return \"No content found\"\n",
    "    else:\n",
    "        return \"No X in content, invalid format\""
   ]
  },
  {
   "cell_type": "code",
   "execution_count": 15,
   "metadata": {},
   "outputs": [
    {
     "name": "stdout",
     "output_type": "stream",
     "text": [
      "X:288\n",
      "T:Sheames Sime\n",
      "% Nottingham Music Database\n",
      "S:Trad, arr Phil Rowe\n",
      "M:6/8\n",
      "K:G\n",
      "B|\"G\"G3 \"C\"gfe|\"G\"d2c BAG|\"D7\"c2A GFE|\"G\"D2B, B,2D|\"C\"E3 G3|\"G\"B2A B2c| \"G\"d2B d2B|\n",
      "\"D7\"d3 -d2c|\"G\"d2d d2d|\"C\"cBA GFG|\"D7\"A2G F3|\"G\"G2g g2f|1\"G\"d3 -d2c|B3 -B2B|\"Am\"A2B \"D7\"c2d|\"G\"B3 G3|\"D7\"cBA d2e|\n",
      "\"G\"d2B Bcd|B2d c2B|\"Am\"ABA aec|\"D\"DFA dBA|\n",
      "\"G\"GFG DGB|dBG d2d|\"C\"edB \"D7\"def|\"G\"gdB GBd|\n",
      "\"D7\"agf def|\"G\"gfg  \"C\"edc|\"G\"BdB GBc|\"Em\"dcB \"D7\"A2g/2f/2|\n",
      "\"G\"bgg \"D\"afd|\"C\"cde \"G\"gdB|\"C\"cde \"G\"dcB|\"D7\"cAF \"G\"G2:|\n",
      "P:B\n",
      "d|\"G\"gfg \"D7\"aga|\"G\"bge dBG|\n"
     ]
    }
   ],
   "source": [
    "\n",
    "result = music_split(value_b)\n",
    "print(result)"
   ]
  },
  {
   "cell_type": "code",
   "execution_count": 34,
   "metadata": {},
   "outputs": [],
   "source": [
    "mm = \"\"\"X: 24\n",
    "T:Dain Born Whaid Hornpipe\n",
    "% Nottingham Music Database\n",
    "S:via PR\n",
    "M:4/4\n",
    "L:1/4\n",
    "\n",
    "B4\\\n",
    "P:A/8\n",
    "G/2A/2B/2 c/2B/2A/2G/2|c/2B/2A/2G/2 e/2d/2c/2B/2|A/2B/2A/2G/2 F/2G/2A/2B/2|\n",
    "P:b3\n",
    "A/2B/2c/2d/2 d/2c/2B/2A/2|G/2B/2d/2e/2 d/2B/2B/2A/2|\\\n",
    "EG B,/2D/2G/2B/2|\n",
    "d/2B/2G/2B/2 d/2B/2G/2B/2|A/2G/2B/2d/2 g/2f/2e/2d/2|\n",
    "\"Am\"c/2A/2B/2c/2 d/2e/2f/2g/2|e/2a/2g/2e/2 e/2d/2c|\\\n",
    "\"Am\"c/2A/2A/2A/2 A/2G/2A/2B/2|\n",
    "\"Am\"c/2A/2B/2^A/2 \"G\"G/2A/2B/2d/2|\"C\"g/2g/2e/2f/2 g/2a/2g/2e/2|\\\n",
    "\"Dm\"d/2c/2d/2c/2 B/2c/2d/2e/2|\n",
    "\"G\"d/2c/2B/2A/2 G/2A/2B/2c/2|d/2B/2g/2B/2 ge/2d/2|\"C\"e/2g/2f/2g/2 e/2f/2g/2e/2|\n",
    "\"Dm\"d/2e/2f/2g/2 \"A7\"a/2^f/2g/2e/2|\"D\"df/2d/2 -\"A7\"c/2d/2e/2c/2|[1\"D\"d/2e/2d/2F/2 F/2A/2d|\\\n",
    "\"G\"B/2d/2(3g/2f/2e/2 \"D\"d/2B/2A|\"G\"G3/2A/2 G:|\"\"\"\n",
    "\n",
    "\n"
   ]
  }
 ],
 "metadata": {
  "kernelspec": {
   "display_name": "LU",
   "language": "python",
   "name": "python3"
  },
  "language_info": {
   "codemirror_mode": {
    "name": "ipython",
    "version": 3
   },
   "file_extension": ".py",
   "mimetype": "text/x-python",
   "name": "python",
   "nbconvert_exporter": "python",
   "pygments_lexer": "ipython3",
   "version": "3.10.4"
  }
 },
 "nbformat": 4,
 "nbformat_minor": 2
}
